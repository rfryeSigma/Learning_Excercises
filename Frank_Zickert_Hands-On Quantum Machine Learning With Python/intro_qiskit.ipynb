{
 "cells": [
  {
   "cell_type": "code",
   "execution_count": 104,
   "id": "91f3e53c",
   "metadata": {},
   "outputs": [],
   "source": [
    "\"\"\"\n",
    "intro_qiskit.ipynb. Modified excercise from\n",
    "    Hands-On Quantum Machine Learning With Python\n",
    "    Volume 1: Get Started by Dr. Frank Zickert\n",
    "    Copyright © 2021 Dr. Frank Zickert, pyqml.com\n",
    "Chapter 3 Qubit and Quantum States\n",
    "I added Accuracy and Matthews Correlation Coefficient metrics,\n",
    "I corrected bugs in the use of rankings as probabilities\n",
    "and in the use of probabilities to set quantum states.\n",
    "\"\"\"\n",
    "None"
   ]
  },
  {
   "cell_type": "code",
   "execution_count": 105,
   "id": "d5e33c80",
   "metadata": {},
   "outputs": [],
   "source": [
    "from functools import reduce\n",
    "from math import sqrt, pi, cos, sin\n",
    "import matplotlib.pyplot as plt\n",
    "import numpy as np\n",
    "from qiskit import execute, Aer, QuantumCircuit\n",
    "from qiskit.visualization import plot_histogram\n",
    "import random\n",
    "from scipy.stats import spearmanr\n",
    "from sklearn.metrics import recall_score, precision_score, accuracy_score\n",
    "from sklearn.metrics import confusion_matrix, matthews_corrcoef"
   ]
  },
  {
   "cell_type": "code",
   "execution_count": 106,
   "id": "9c007d14",
   "metadata": {},
   "outputs": [
    {
     "data": {
      "text/plain": [
       "<qiskit.circuit.instructionset.InstructionSet at 0x22591f20760>"
      ]
     },
     "execution_count": 106,
     "metadata": {},
     "output_type": "execute_result"
    }
   ],
   "source": [
    "def get_state(theta):\n",
    "    \"\"\"returns a valid state vector\"\"\"\n",
    "    return [cos(theta/2), sin(theta/2)]\n",
    "\n",
    "# play with the values for theta to get a feeling\n",
    "theta = -pi/3 # affects the probabilities\n",
    "\n",
    "qc = QuantumCircuit(1)\n",
    "#initial_state = [0, 1]  # |1>\n",
    "#initial_state = [1/sqrt(2), 1/sqrt(2)]  # |+>\n",
    "#initial_state = [1/2, sqrt(3)/2] # 75% true\n",
    "initial_state = get_state(theta)\n",
    "qc.initialize(initial_state, 0)\n",
    "#qc.measure_all()"
   ]
  },
  {
   "cell_type": "code",
   "execution_count": 107,
   "id": "f7c4440b",
   "metadata": {},
   "outputs": [
    {
     "data": {
      "image/png": "[encoded data removed]",
      "text/plain": [
       "<Figure size 269.064x117.056 with 1 Axes>"
      ]
     },
     "execution_count": 107,
     "metadata": {},
     "output_type": "execute_result"
    }
   ],
   "source": [
    "qc.draw(output='mpl')"
   ]
  },
  {
   "cell_type": "code",
   "execution_count": 108,
   "id": "b0f960fe",
   "metadata": {},
   "outputs": [],
   "source": [
    "backend = Aer.get_backend('statevector_simulator')\n",
    "result = execute(qc,backend).result()"
   ]
  },
  {
   "cell_type": "code",
   "execution_count": 109,
   "id": "0788693b",
   "metadata": {},
   "outputs": [
    {
     "data": {
      "image/png": "[encoded data removed]",
      "text/plain": [
       "<Figure size 700x500 with 1 Axes>"
      ]
     },
     "execution_count": 109,
     "metadata": {},
     "output_type": "execute_result"
    }
   ],
   "source": [
    "counts = result.get_counts()\n",
    "plot_histogram(counts)"
   ]
  },
  {
   "cell_type": "code",
   "execution_count": 110,
   "id": "d3e046c1",
   "metadata": {},
   "outputs": [],
   "source": [
    "def pqc_classify(backend, passenger_state):\n",
    "    \"\"\"backend −− a qiskit backend to run the quantum circuit at\n",
    "    passenger_state −− a valid quantum state vector\"\"\"\n",
    "\n",
    "    # Create a quantum circuit with one qubit\n",
    "    qc = QuantumCircuit(1)\n",
    "\n",
    "    # Define state |Psi> and initialize the circuit\n",
    "    qc.initialize(passenger_state, 0)\n",
    "    qc.measure_all()\n",
    "\n",
    "    # Run the quantum circuit\n",
    "    result = execute(qc, backend).result()\n",
    "\n",
    "    # Get the counts, these are either {'0': 1} or {'1': 1}\n",
    "    counts = result.get_counts(qc)\n",
    "\n",
    "    # Get the bit 0 or 1\n",
    "    return int(list(map(lambda item: item[0], counts.items()))[0])"
   ]
  },
  {
   "cell_type": "code",
   "execution_count": 111,
   "id": "32e425ba",
   "metadata": {},
   "outputs": [],
   "source": [
    "# These numpy arrays were written by titanic_ml after data cleaning.\n",
    "with open('titanic/train.npy', 'rb') as f:\n",
    "    train_input = np.load(f)\n",
    "    train_labels = np.load(f)\n",
    "with open('titanic/test.npy', 'rb') as f:\n",
    "    test_input = np.load(f)\n",
    "    test_labels = np.load(f)"
   ]
  },
  {
   "cell_type": "code",
   "execution_count": 112,
   "id": "315b7c6e",
   "metadata": {},
   "outputs": [],
   "source": [
    "random.seed(a=None, version=2)\n",
    "def random_classify(passenger):\n",
    "    return random.randint(0, 1)\n",
    "\n",
    "def specificity(matrix):\n",
    "    \"\"\"Specificity := TN / All Actual Negatives.\n",
    "    Confusion matrix is [[TN, FP], [FN, TP]] .\"\"\"\n",
    "    den = matrix[0][0] + matrix[0][1]\n",
    "    return matrix[0][0] / den if 0 < den else 0\n",
    "\n",
    "def npv(matrix):\n",
    "    \"\"\"Negative Predictive Value := TN / All Predicted Negatives\n",
    "    Confusion matrix is [[TN, FP], [FN, TP]] .\"\"\"\n",
    "    den = matrix[0][0] + matrix[1][0]\n",
    "    return matrix[0][0] / den if 0 < den else 0\n",
    "\n",
    "def run(f_classify, x):\n",
    "    return list(map(f_classify, x))\n",
    "\n",
    "def classifier_report(name, run, classify, inputs, labels):\n",
    "    cr_predictions = run(classify, inputs)\n",
    "    cr_cm = confusion_matrix(labels, cr_predictions)\n",
    "    cr_prec = precision_score(labels, cr_predictions)\n",
    "    cr_rec = recall_score(labels, cr_predictions)\n",
    "    cr_spec = specificity(cr_cm)\n",
    "    cr_npv = npv(cr_cm)\n",
    "    cr_info = 0.25*(cr_prec + cr_rec + cr_spec + cr_npv)\n",
    "    cr_acc = accuracy_score(labels, cr_predictions)\n",
    "    cr_mcc = matthews_corrcoef(labels, cr_predictions)\n",
    "    print(f'{name}: prec {cr_prec:.2f}, rec {cr_rec:.2f}, spec {cr_spec:.2f}, npv {cr_npv:.2f}'\n",
    "          f', info {cr_info:.2f}, acc {cr_acc:.2f}, mcc {cr_mcc:.2f}')"
   ]
  },
  {
   "cell_type": "code",
   "execution_count": 113,
   "id": "df5744c3",
   "metadata": {},
   "outputs": [
    {
     "name": "stdout",
     "output_type": "stream",
     "text": [
      "Random PQC: prec 0.37, rec 0.46, spec 0.52, npv 0.62, info 0.49, acc 0.50, mcc -0.02\n"
     ]
    }
   ],
   "source": [
    "backend = Aer.get_backend('statevector_simulator')\n",
    "initial_state = [1/sqrt(2), 1/sqrt(2)]\n",
    "classifier_report(\"Random PQC\", run,\n",
    "                lambda passenger: pqc_classify(backend, initial_state),\n",
    "                train_input, train_labels)\n",
    "# Output stats on random 50-50 choice for each passenger"
   ]
  },
  {
   "cell_type": "code",
   "execution_count": 114,
   "id": "a898d8b6",
   "metadata": {},
   "outputs": [
    {
     "data": {
      "text/plain": [
       "[-0.32775463966656226,\n",
       " -0.5244017735458312,\n",
       " -0.08466252799952526,\n",
       " 0.07792938671633483,\n",
       " 0.13784778790972818,\n",
       " 0.29989196388440625,\n",
       " -0.15729149549859364]"
      ]
     },
     "execution_count": 114,
     "metadata": {},
     "output_type": "execute_result"
    }
   ],
   "source": [
    "def pqc(backend, quantum_state):\n",
    "    \"\"\"\n",
    "    backend −− a qiskit backend to run the quantum circuit at\n",
    "    quantum_state −− a valid quantum state vector\n",
    "    returns the counts of the measurement\n",
    "    \"\"\"\n",
    "    # Create a quantum circuit with one qubit\n",
    "    qc = QuantumCircuit(1)\n",
    "\n",
    "    # Define state |Psi> and initialize the circuit\n",
    "    qc.initialize(quantum_state, 0)\n",
    "\n",
    "    # Measure the qubit\n",
    "    qc.measure_all()\n",
    "\n",
    "    # run the quantum circuit\n",
    "    result = execute(qc,backend).result()\n",
    "\n",
    "    # Get the counts, these are either {'0': 1} or {'1': 1}\n",
    "    counts = result.get_counts(qc)\n",
    "    return counts\n",
    "\n",
    "def post_process(counts):\n",
    "    \"\"\"\n",
    "    counts −− the result of the quantum circuit execution\n",
    "    returns the prediction\n",
    "    \"\"\"\n",
    "    return int(list(map(lambda item: item[0], counts.items()))[0])\n",
    "\n",
    "def weigh_feature(feature, weight):\n",
    "    \"\"\"\n",
    "    feature −− the single value of a passenger's feature\n",
    "    weight −− the overall weight of this feature\n",
    "    returns the weighted feature\n",
    "    \"\"\"\n",
    "    return feature * weight\n",
    "\n",
    "def get_overall_probability(features, weights):\n",
    "    \"\"\"\n",
    "    features −− list of the features of a passenger\n",
    "    weights −− list of all features' weights\n",
    "    \"\"\"\n",
    "    return reduce(\n",
    "            lambda result, data: result + weigh_feature(*data), zip(features, weights),\n",
    "            0)\n",
    "\n",
    "# Separate the training data into a list of the columns\n",
    "columns = [list(map(lambda passenger: passenger[i], train_input)) for i in range(0,7)]\n",
    "\n",
    "# Calculate the correlation coefficient for each column\n",
    "correlations = list(map(lambda col: spearmanr(col, train_labels)[0], columns))\n",
    "\n",
    "# Return correlations on: Pclass, Sex, Age, SibSp, Parch, Fare, Embarked\n",
    "# Losers are 3rd class; males; and embarked at Southampton.\n",
    "# Winners are number of siblings, spouse; number of parents, children; cost of ticket\n",
    "correlations"
   ]
  },
  {
   "cell_type": "code",
   "execution_count": 115,
   "id": "d8f1f731",
   "metadata": {},
   "outputs": [],
   "source": [
    "def pre_process_weighted(passenger):\n",
    "    \"\"\"\n",
    "    passenger −− the normalized (array of numeric data) passenger data\n",
    "    returns a valid quantum state\n",
    "    \"\"\"\n",
    "    # Calculate the overall probability\n",
    "    mu = get_overall_probability(passenger, correlations)\n",
    "    #print(f'overall probability {mu}')\n",
    "\n",
    "    # theta between 0 (|0>) and pi (|1>)\n",
    "    quantum_state = get_state((1 - mu) * pi)\n",
    "    return quantum_state\n",
    "# My comment: No, mu is not a probability and usually negative,\n",
    "# so theta is usually greater than pi.\n",
    "# Another bug is that qubit probability does not vary linearly with theta."
   ]
  },
  {
   "cell_type": "code",
   "execution_count": 116,
   "id": "9326233c",
   "metadata": {},
   "outputs": [
    {
     "name": "stdout",
     "output_type": "stream",
     "text": [
      "Variational: prec 0.67, rec 0.61, spec 0.82, npv 0.78, info 0.72, acc 0.74, mcc 0.44\n"
     ]
    }
   ],
   "source": [
    "backend = Aer.get_backend('statevector_simulator')\n",
    "classifier_report(\"Variational\", run,\n",
    "                lambda passenger: post_process(pqc(backend, pre_process_weighted(passenger))),\n",
    "                train_input,\n",
    "                train_labels)\n",
    "# output stats on variable random choice based on features for each passenger"
   ]
  },
  {
   "cell_type": "code",
   "execution_count": 117,
   "id": "cbc542e7",
   "metadata": {},
   "outputs": [
    {
     "name": "stdout",
     "output_type": "stream",
     "text": [
      "Variational−Test: prec 0.80, rec 0.64, spec 0.89, npv 0.78, info 0.78, acc 0.79, mcc 0.55\n"
     ]
    }
   ],
   "source": [
    "classifier_report(\"Variational−Test\",  run,\n",
    "                lambda passenger: post_process(pqc(backend, pre_process_weighted(passenger))),\n",
    "                test_input,\n",
    "                test_labels)"
   ]
  },
  {
   "cell_type": "code",
   "execution_count": 118,
   "id": "d23070b0",
   "metadata": {},
   "outputs": [
    {
     "name": "stdout",
     "output_type": "stream",
     "text": [
      "raw \"probability\" quantiles [-1.08317614 -1.00225357 -0.780902   -0.41856172  0.26310345]\n",
      "\t mean -0.6744385497636031\n",
      "scaled probability quantiles [0.         0.06010829 0.22452553 0.49366745 1.        ]\n"
     ]
    },
    {
     "data": {
      "text/plain": [
       "Text(0.5, 1.0, 'Scaled training probabilities colored by whether survived')"
      ]
     },
     "execution_count": 118,
     "metadata": {},
     "output_type": "execute_result"
    },
    {
     "data": {
      "image/png": "[encoded data removed]",
      "text/plain": [
       "<Figure size 640x480 with 1 Axes>"
      ]
     },
     "metadata": {},
     "output_type": "display_data"
    }
   ],
   "source": [
    "# My addition: try to improve scores with better probability calculation.\n",
    "probs = np.array([get_overall_probability(p, correlations) for p in train_input])\n",
    "print(f'raw \"probability\" quantiles {np.quantile(probs, [0, .25, .5, .75, 1])}')\n",
    "print(f'\\t mean {np.mean(probs)}')\n",
    "# Raw probs are not probabilities, merely rankings and mostly negative; need to be scaled.\n",
    "\n",
    "scaled_probs = (probs - probs.min()) / (probs.max() - probs.min())\n",
    "# This is fairly good: 3rd quartile is slightly less than 0.5, close to survival rate.\n",
    "print(f'scaled probability quantiles {np.quantile(scaled_probs, [0, .25, .5, .75, 1])}')\n",
    "plt.scatter(scaled_probs, scaled_probs, c=train_labels, alpha=.25, s=.5)\n",
    "plt.title('Scaled training probabilities colored by whether survived')"
   ]
  },
  {
   "cell_type": "code",
   "execution_count": 120,
   "id": "377997b7",
   "metadata": {},
   "outputs": [
    {
     "name": "stdout",
     "output_type": "stream",
     "text": [
      "Scaled-Variational: prec 0.65, rec 0.52, spec 0.83, npv 0.74, info 0.68, acc 0.71, mcc 0.37\n"
     ]
    }
   ],
   "source": [
    "# My addition: Apply scaled probabilities to simulated quantum prediction\n",
    "def pqc_p(backend, prob):\n",
    "    \"\"\"\n",
    "    backend −− a qiskit backend to run the quantum circuit at\n",
    "    prob −− probability of survival\n",
    "    returns the counts of the measurement\n",
    "    \"\"\"\n",
    "    # Create a quantum circuit with one qubit\n",
    "    qc = QuantumCircuit(1)\n",
    "\n",
    "    # Define state |Psi> directly from prabability and initialize the circuit\n",
    "    quantum_state = (sqrt(1. - prob), sqrt(prob))\n",
    "    qc.initialize(quantum_state, 0)\n",
    "\n",
    "    # Measure the qubit\n",
    "    qc.measure_all()\n",
    "\n",
    "    # run the quantum circuit\n",
    "    result = execute(qc,backend).result()\n",
    "\n",
    "    # Get the counts, these are either {'0': 1} or {'1': 1}\n",
    "    counts = result.get_counts(qc)\n",
    "    return counts\n",
    "\n",
    "classifier_report(\"Scaled-Variational\",  run,\n",
    "                lambda prob: post_process(pqc_p(backend, prob)),\n",
    "                scaled_probs,\n",
    "                train_labels)\n",
    "'''\n",
    "Although my results have slightly lower scores than the ones in the book,\n",
    "I believe they are more correct, because I use proabilities rather than rankings,\n",
    "and I correctly apply the probabilities to quantum states.\n",
    "'''\n",
    "None"
   ]
  },
  {
   "cell_type": "code",
   "execution_count": null,
   "id": "513ac38e",
   "metadata": {},
   "outputs": [],
   "source": []
  }
 ],
 "metadata": {
  "kernelspec": {
   "display_name": "Python 3 (ipykernel)",
   "language": "python",
   "name": "python3"
  },
  "language_info": {
   "codemirror_mode": {
    "name": "ipython",
    "version": 3
   },
   "file_extension": ".py",
   "mimetype": "text/x-python",
   "name": "python",
   "nbconvert_exporter": "python",
   "pygments_lexer": "ipython3",
   "version": "3.9.13"
  }
 },
 "nbformat": 4,
 "nbformat_minor": 5
}
